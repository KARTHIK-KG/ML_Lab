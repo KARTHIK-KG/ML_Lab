{
  "nbformat": 4,
  "nbformat_minor": 0,
  "metadata": {
    "colab": {
      "name": "EXP 1_ML.ipynb",
      "provenance": []
    },
    "kernelspec": {
      "name": "python3",
      "display_name": "Python 3"
    },
    "language_info": {
      "name": "python"
    }
  },
  "cells": [
    {
      "cell_type": "code",
      "execution_count": 2,
      "metadata": {
        "colab": {
          "base_uri": "https://localhost:8080/"
        },
        "id": "8L1KLBKsTvEX",
        "outputId": "c3726284-0f40-414f-f036-f7b07dd2c159"
      },
      "outputs": [
        {
          "output_type": "stream",
          "name": "stdout",
          "text": [
            "Final Position: ( -1 , -1 )\n"
          ]
        }
      ],
      "source": [
        "def finddis(s):\n",
        " x=y=0\n",
        " for i in s:\n",
        "  if(i=='U'):\n",
        "   x+=1\n",
        "  elif(i=='D'):\n",
        "   x-=1\n",
        "  elif(i=='L'):\n",
        "   y-=1\n",
        "  elif(i=='R'):\n",
        "   y+=1\n",
        " return x,y\n",
        "s='UDLRUDLRDL'\n",
        "x1,y1=finddis(s)\n",
        "print(\"Final Position: ( {} , {} )\".format(x1,y1))"
      ]
    }
  ]
}