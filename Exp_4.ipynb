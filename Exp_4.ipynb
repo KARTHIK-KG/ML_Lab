{
  "nbformat": 4,
  "nbformat_minor": 0,
  "metadata": {
    "colab": {
      "name": "EXP 4_ML",
      "provenance": []
    },
    "kernelspec": {
      "name": "python3",
      "display_name": "Python 3"
    },
    "language_info": {
      "name": "python"
    }
  },
  "cells": [
    {
      "cell_type": "code",
      "execution_count": 1,
      "metadata": {
        "id": "1SJni6E7fGSr",
        "outputId": "90a359d3-a9a7-4193-9596-ba65c0bfe91c",
        "colab": {
          "base_uri": "https://localhost:8080/",
          "height": 484
        }
      },
      "outputs": [
        {
          "output_type": "stream",
          "name": "stderr",
          "text": [
            "/usr/local/lib/python3.7/dist-packages/ipykernel_launcher.py:61: DeprecationWarning: time.clock has been deprecated in Python 3.3 and will be removed from Python 3.8: use time.perf_counter or time.process_time instead\n",
            "/usr/local/lib/python3.7/dist-packages/ipykernel_launcher.py:63: DeprecationWarning: time.clock has been deprecated in Python 3.3 and will be removed from Python 3.8: use time.perf_counter or time.process_time instead\n"
          ]
        },
        {
          "output_type": "stream",
          "name": "stdout",
          "text": [
            "1000 Elements Sorted by HeapSort in  0.02925500000000003\n",
            "2000 Elements Sorted by HeapSort in  0.05835199999999974\n",
            "3000 Elements Sorted by HeapSort in  0.10050500000000007\n",
            "4000 Elements Sorted by HeapSort in  0.13580900000000007\n",
            "5000 Elements Sorted by HeapSort in  0.1532469999999999\n",
            "6000 Elements Sorted by HeapSort in  0.20902900000000013\n",
            "7000 Elements Sorted by HeapSort in  0.18593700000000002\n",
            "8000 Elements Sorted by HeapSort in  0.19316299999999975\n",
            "9000 Elements Sorted by HeapSort in  0.2165309999999998\n"
          ]
        },
        {
          "output_type": "display_data",
          "data": {
            "text/plain": [
              "<Figure size 432x288 with 1 Axes>"
            ],
            "image/png": "[encoded data removed]"
          },
          "metadata": {
            "needs_background": "light"
          }
        }
      ],
      "source": [
        "import time\n",
        "from numpy.random import seed\n",
        "from numpy.random import randint\n",
        "import matplotlib.pyplot as plt\n",
        "# find left child of node i\n",
        "def left(i):\n",
        "    return 2 * i + 1\n",
        "# find right child of node i\n",
        "def right(i):\n",
        "    return 2 * i + 2\n",
        "# calculate and return array size\n",
        "def heapSize(A):\n",
        "    return len(A)-1\n",
        "# This function takes an array and Heapyfies\n",
        "# the at node i\n",
        "def MaxHeapify(A, i):\n",
        " # print(\"in heapy\", i)\n",
        "    l = left(i)\n",
        "    r = right(i)\n",
        "\n",
        " # heapSize = len(A)\n",
        " # print(\"left\", l, \"Rightt\", r, \"Size\", heapSize)\n",
        "    if l<= heapSize(A) and A[l] > A[i] :\n",
        "        largest = l\n",
        "    else:\n",
        "        largest = i\n",
        "    if r<= heapSize(A) and A[r] > A[largest]:\n",
        "        largest = r\n",
        "    if largest != i:\n",
        "     # print(\"Largest\", largest)\n",
        "     A[i], A[largest]= A[largest], A[i]\n",
        "     # print(\"List\", A)\n",
        "     MaxHeapify(A, largest)\n",
        "\n",
        "# this function makes a heapified array\n",
        "def BuildMaxHeap(A):\n",
        "    for i in range(int(heapSize(A)/2)-1, -1, -1):\n",
        "        MaxHeapify(A, i)\n",
        "\n",
        "# Sorting is done using heap of array\n",
        "def HeapSort(A):\n",
        "    BuildMaxHeap(A)\n",
        "    B = list()\n",
        "    heapSize1 = heapSize(A)\n",
        "    for i in range(heapSize(A), 0, -1):\n",
        "        A[0], A[i]= A[i], A[0]\n",
        "        B.append(A[heapSize1])\n",
        "        A = A[:-1]\n",
        "        heapSize1 = heapSize1-1\n",
        "        MaxHeapify(A, 0)\n",
        "\n",
        "# randomly generates list of different\n",
        "# sizes and call HeapSort function\n",
        "elements = list()\n",
        "times = list()\n",
        "for i in range(1, 10):\n",
        "    \n",
        "    # generate some integers\n",
        "    a = randint(0, 1000 * i, 1000 * i)\n",
        "    # print(i)\n",
        "    start = time.clock()\n",
        "    HeapSort(a)\n",
        "    end = time.clock()\n",
        "    # print(\"Sorted list is \", a)\n",
        "    print(len(a), \"Elements Sorted by HeapSort in \", end-start)\n",
        "    elements.append(len(a))\n",
        "    times.append(end-start)\n",
        "plt.xlabel('List Length')\n",
        "plt.ylabel('Time Complexity')\n",
        "plt.plot(elements, times, label ='Heap Sort')\n",
        "plt.grid()\n",
        "plt.legend()\n",
        "plt.show()"
      ]
    }
  ]
}