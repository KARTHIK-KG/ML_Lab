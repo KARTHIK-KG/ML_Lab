{
  "nbformat": 4,
  "nbformat_minor": 0,
  "metadata": {
    "colab": {
      "name": "EXP 3_ML.ipynb",
      "provenance": []
    },
    "kernelspec": {
      "name": "python3",
      "display_name": "Python 3"
    },
    "language_info": {
      "name": "python"
    }
  },
  "cells": [
    {
      "cell_type": "code",
      "execution_count": 1,
      "metadata": {
        "id": "GDnJauqDVkZw"
      },
      "outputs": [],
      "source": [
        "from numpy import percentile\n",
        "from numpy.random import rand"
      ]
    },
    {
      "cell_type": "code",
      "source": [
        "data = rand(1000)"
      ],
      "metadata": {
        "id": "M5BTwyFmVqNG"
      },
      "execution_count": 2,
      "outputs": []
    },
    {
      "cell_type": "code",
      "source": [
        "quartiles = percentile(data, [25, 50, 75])"
      ],
      "metadata": {
        "id": "QUnovZhBVsyN"
      },
      "execution_count": 3,
      "outputs": []
    },
    {
      "cell_type": "code",
      "source": [
        "data_min, data_max = data.min(), data.max()"
      ],
      "metadata": {
        "id": "ZEmIYkO1VuaW"
      },
      "execution_count": 4,
      "outputs": []
    },
    {
      "cell_type": "code",
      "source": [
        "print('Min: %.3f' % data_min)\n",
        "print('Q1: %.3f' % quartiles[0])\n",
        "print('Median: %.3f' % quartiles[1])\n",
        "print('Q3: %.3f' % quartiles[2])\n",
        "print('Max: %.3f' % data_max)"
      ],
      "metadata": {
        "colab": {
          "base_uri": "https://localhost:8080/"
        },
        "id": "V5qsWIHiVxhl",
        "outputId": "84a64893-eece-4f53-848d-98b4be771257"
      },
      "execution_count": 5,
      "outputs": [
        {
          "output_type": "stream",
          "name": "stdout",
          "text": [
            "Min: 0.001\n",
            "Q1: 0.272\n",
            "Median: 0.491\n",
            "Q3: 0.742\n",
            "Max: 1.000\n"
          ]
        }
      ]
    }
  ]
}