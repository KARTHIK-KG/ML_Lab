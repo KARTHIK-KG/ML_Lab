{
  "nbformat": 4,
  "nbformat_minor": 0,
  "metadata": {
    "colab": {
      "name": "ML LAB_11(b).ipynb",
      "provenance": []
    },
    "kernelspec": {
      "name": "python3",
      "display_name": "Python 3"
    },
    "language_info": {
      "name": "python"
    }
  },
  "cells": [
    {
      "cell_type": "code",
      "execution_count": null,
      "metadata": {
        "colab": {
          "base_uri": "https://localhost:8080/",
          "height": 278
        },
        "id": "uT--Kd8Vt1h8",
        "outputId": "1ab660f0-cdf3-4aa9-e982-a53e6aac175e"
      },
      "outputs": [
        {
          "output_type": "display_data",
          "data": {
            "text/plain": [
              "<Figure size 432x288 with 1 Axes>"
            ],
            "image/png": "[encoded data removed]"
          },
          "metadata": {
            "needs_background": "light"
          }
        }
      ],
      "source": [
        "import pandas as pd\n",
        "df=pd.read_csv('StkUnEmp.csv')\n",
        "df1=df[['Date','SP500','Men','Women']]\n",
        "df1=df1[:96]\n",
        "X=df1[['SP500']]\n",
        "Y=df1[['Men']]\n",
        "import matplotlib.pyplot as plt\n",
        "plt.scatter(X,Y,c=\"blue\")\n",
        "plt.xlabel(\"SP500\")\n",
        "plt.ylabel(\"UnEmployment - Men\")\n",
        "plt.show()"
      ]
    },
    {
      "cell_type": "code",
      "source": [
        "from sklearn.model_selection import train_test_split\n",
        "X_train,X_test,Y_train,Y_test=train_test_split(X,Y,test_size=0.20)\n",
        "import numpy as np\n",
        "X_train=np.asarray(X_train)\n",
        "Y_train=np.asarray(Y_train)\n",
        "X_test=np.asarray(X_test)\n",
        "Y_test=np.asarray(Y_test)\n",
        "X_train.reshape(1,-1)\n",
        "Y_train.reshape(1,-1)\n",
        "X_test.reshape(1,-1)\n",
        "Y_test.reshape(1,-1)"
      ],
      "metadata": {
        "colab": {
          "base_uri": "https://localhost:8080/"
        },
        "id": "CH0km264u-LA",
        "outputId": "8fe39b34-9103-456b-e82d-3581031a640f"
      },
      "execution_count": null,
      "outputs": [
        {
          "output_type": "execute_result",
          "data": {
            "text/plain": [
              "array([[ 5.7,  4.4,  8.6,  8.7,  5.2,  4.5,  5.1,  4.7,  7. ,  4. ,  3.8,\n",
              "         6.1,  4.7,  4.6, 10.2,  4.3,  3.8,  7.3,  4.2,  4.6]])"
            ]
          },
          "metadata": {},
          "execution_count": 5
        }
      ]
    },
    {
      "cell_type": "code",
      "source": [
        "from sklearn.linear_model import LinearRegression\n",
        "reg=LinearRegression()\n",
        "model=reg.fit(X_train,Y_train)\n",
        "Y_pred=model.predict(X_test)\n",
        "plt.scatter(Y_test,Y_pred,c='blue')"
      ],
      "metadata": {
        "colab": {
          "base_uri": "https://localhost:8080/",
          "height": 282
        },
        "id": "S-vWk3vgvnzn",
        "outputId": "f339cf6e-69b5-4432-a38f-e54b2b805a5a"
      },
      "execution_count": null,
      "outputs": [
        {
          "output_type": "execute_result",
          "data": {
            "text/plain": [
              "<matplotlib.collections.PathCollection at 0x7f045653a990>"
            ]
          },
          "metadata": {},
          "execution_count": 6
        },
        {
          "output_type": "display_data",
          "data": {
            "text/plain": [
              "<Figure size 432x288 with 1 Axes>"
            ],
            "image/png": "[encoded data removed]"
          },
          "metadata": {
            "needs_background": "light"
          }
        }
      ]
    },
    {
      "cell_type": "code",
      "source": [
        "plt.scatter(X_test,Y_test,color='red')\n",
        "plt.plot(X_train,reg.predict(X_train),color='blue')\n",
        "plt.xlabel(\"SP500\")\n",
        "plt.ylabel(\"UnEmployment - Men\")\n",
        "plt.show()"
      ],
      "metadata": {
        "id": "9nx52ul2vuVX",
        "outputId": "c13d7c02-2f5e-4cc4-9eda-0ba2dfd2221a",
        "colab": {
          "base_uri": "https://localhost:8080/",
          "height": 278
        }
      },
      "execution_count": null,
      "outputs": [
        {
          "output_type": "display_data",
          "data": {
            "text/plain": [
              "<Figure size 432x288 with 1 Axes>"
            ],
            "image/png": "[encoded data removed]"
          },
          "metadata": {
            "needs_background": "light"
          }
        }
      ]
    }
  ]
}